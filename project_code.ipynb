{
 "cells": [
  {
   "cell_type": "markdown",
   "id": "8baf2aba",
   "metadata": {},
   "source": [
    "Код самой Fuzzy_Artmap со всеми необходимыми функциями"
   ]
  },
  {
   "cell_type": "code",
   "execution_count": 2,
   "id": "404f4dcf",
   "metadata": {},
   "outputs": [],
   "source": [
    "import numpy as np\n",
    "import random\n",
    "\n",
    "class Fuzzy_Artmap():\n",
    "    def __init__(self, M = 625, choice = 0.001, learn = 0.5, vig = 0.75, st_vig = 0.75, eps = 0.001):\n",
    "        #size of F-level\n",
    "        self.M = M \n",
    "        #choice parameter\n",
    "        self.choice=choice\n",
    "        #learning parameter \n",
    "        self.learn=learn\n",
    "        #changable vigilance parameter\n",
    "        self.vig=vig\n",
    "        #stable vigilance parameter\n",
    "        self.st_vig=st_vig\n",
    "        #matching parameter\n",
    "        self.eps=eps\n",
    "        #weights from F to C\n",
    "        self.C=np.array([])\n",
    "        #weights from I to F\n",
    "        self.W=np.array([])\n",
    "        #original data answers\n",
    "        self.orig_result =np.array([])\n",
    "\n",
    "    #complete our input\n",
    "    def make_input(self, I):\n",
    "        return np.concatenate((I,np.ones(I.shape) - I),axis=1)\n",
    "    \n",
    "    #func to calculate a^b\n",
    "    def min_array(self,a,b):\n",
    "        return np.array([min(a[i],b[i]) for i in range(len(a))])\n",
    "    \n",
    "    #func with which we select the optimal F-level vertex for our input\n",
    "    def choice_function(self,x,w):\n",
    "        T = sum(self.min_array(x,w))/(self.choice + sum(w))\n",
    "        return T\n",
    "    \n",
    "\n",
    "    def train(self,I, I_res):\n",
    "        self.M = len(I[0])\n",
    "        self.orig_result=I_res\n",
    "        self.C = [0]\n",
    "        self.W = np.ones((1,self.M*2))\n",
    "        I = self.make_input(I)\n",
    "           \n",
    "        for index, a_i in enumerate(I):\n",
    "            #just to see how fast training goes\n",
    "            if index%1000==0:\n",
    "                print(index)\n",
    "\n",
    "            if index==0:\n",
    "                self.W[0]=a_i\n",
    "                self.C[0]=self.orig_result[0];\n",
    "                continue\n",
    "\n",
    "            T_list=np.array([self.choice_function(a_i, w_i) for w_i in self.W])\n",
    "            T_max = np.argmax(T_list)\n",
    "            while 1:\n",
    "                #if no good F-vertex found, build a new one\n",
    "                if sum(T_list)==0:\n",
    "                    #if self.W.shape[0]<400:\n",
    "                    self.C = np.concatenate((self.C,[self.orig_result[index]]))\n",
    "                    self.W = np.concatenate((self.W,[a_i]),axis=0)\n",
    "                    #else:\n",
    "                    #    self.C[T_max] = self.orig_result[index]\n",
    "                    break\n",
    "\n",
    "                #best matching F-vertex\n",
    "                J = np.argmax(T_list)\n",
    "                res = sum(self.min_array(a_i,self.W[J]))/self.M \n",
    "                if res >= self.vig:\n",
    "                    if self.orig_result[index]==self.C[J]:\n",
    "                        #making new weights\n",
    "                        self.W[J] = self.learn*(self.min_array(a_i,self.W[J])) + (1-self.learn)*(self.W[J])\n",
    "                        break\n",
    "                    else:\n",
    "                        T_list[J] = 0\n",
    "                        #making better vig, as we failed\n",
    "                        self.vig = sum(self.min_array(a_i,self.W[J]))/self.M + self.eps\n",
    "                else:\n",
    "                    T_list[J] = 0\n",
    "            self.vig=self.st_vig\n",
    "\n",
    "    def predict(self, input_i):\n",
    "        I =self.make_input(input_i)\n",
    "        sum_reson = 0\n",
    "        ans = []\n",
    "        for I_i in I:\n",
    "            T_list=np.array([self.choice_function(I_i, w_i) for w_i in self.W])\n",
    "            while 1:\n",
    "                if sum(T_list)==0:\n",
    "                    ans.append(-1)\n",
    "                    break;\n",
    "                J = np.argmax(T_list)\n",
    "                resonance = sum(self.min_array(I_i,self.W[J]))/self.M\n",
    "                sum_reson += resonance\n",
    "                if resonance >= self.vig:\n",
    "                    ans.append(self.C[J])\n",
    "                    break\n",
    "                else:\n",
    "                    T_list[J]=0\n",
    "        return ans, sum_reson"
   ]
  },
  {
   "cell_type": "markdown",
   "id": "679ea565",
   "metadata": {},
   "source": [
    "Проверим на простых примерах, что код работает правильно.\\\n",
    "Во всех примерах мы, обучившись, будем считать сколько из 1000 тестов нейронная сеть будет выдавать правильный/неправильный ответ, либо говорить, что не может найти точный ответ."
   ]
  },
  {
   "cell_type": "markdown",
   "id": "c9ae9f98",
   "metadata": {},
   "source": [
    "1. На вход подается число Х. Нейронная сеть получаем в качестве входных данных [X%2, X%3, X%5] и должна научиться определять X%30.\\\n",
    "Если все сделано правильно, то из-за небольшого множества возможных входных данных, сеть должна обучиться отвечать на любой вопрос правильно."
   ]
  },
  {
   "cell_type": "code",
   "execution_count": 3,
   "id": "a7805a1e",
   "metadata": {},
   "outputs": [
    {
     "name": "stdout",
     "output_type": "stream",
     "text": [
      "0\n",
      "1000\n",
      "2000\n",
      "3000\n",
      "4000\n",
      "5000\n",
      "6000\n",
      "7000\n",
      "8000\n",
      "9000\n",
      "10000\n",
      "good: 1000 bad: 0 undef: 0 avg_reson: 1.0\n"
     ]
    }
   ],
   "source": [
    "A = Fuzzy_Artmap()\n",
    "testing_data = np.array([[(i%2)/2, (i%3)/3, (i%5)/5] for i in range(10001)])\n",
    "testing_answers = np.array([i % 30 for i in range(10001)])\n",
    "A.train(testing_data, testing_answers)\n",
    "test = np.array([random.randint(1,10000) for i in range(1000)])\n",
    "test_predict = np.array([[(i%2)/2, (i%3)/3, (i%5)/5] for i in test])\n",
    "res, sum_reson = A.predict(test_predict)\n",
    "good, bad, undef = 0,0,0\n",
    "for i in range(1000):\n",
    "    if res[i] == -1:\n",
    "        undef += 1\n",
    "    else:\n",
    "        if test[i] % 30 == res[i]:\n",
    "            good += 1\n",
    "        else:\n",
    "            bad += 1\n",
    "print(\"good:\", good, \"bad:\", bad, \"undef:\", undef, \"avg_reson:\", sum_reson/1000)"
   ]
  },
  {
   "cell_type": "markdown",
   "id": "9edf27e2",
   "metadata": {},
   "source": [
    "Числа k*1000 - количество sampl-ов, на которых сеть уже обучилась. Удобно, чтобы понимать скорость обучения.\n",
    "Как мы можем видеть, все считается правильно."
   ]
  },
  {
   "cell_type": "markdown",
   "id": "a932256b",
   "metadata": {},
   "source": [
    "2. На вход подается число Х. Нейронная сеть получаем в качестве входных данных [X%2, X%3, X%5, X%7, X] и должна научиться определять X%30.\\\n",
    "Здесь вариантов входных данных уже больше, появилось два параметра, от которых, грубо говоря, ничего не зависит. Мы хотим проверить, не испортят ли они наше обучение."
   ]
  },
  {
   "cell_type": "code",
   "execution_count": 5,
   "id": "e969cb17",
   "metadata": {},
   "outputs": [
    {
     "name": "stdout",
     "output_type": "stream",
     "text": [
      "0\n",
      "1000\n",
      "2000\n",
      "3000\n",
      "4000\n",
      "5000\n",
      "6000\n",
      "7000\n",
      "8000\n",
      "9000\n",
      "10000\n",
      "good: 1000 bad: 0 undef: 0 avg_reson: 0.770884990114715\n"
     ]
    }
   ],
   "source": [
    "B = Fuzzy_Artmap()\n",
    "testing_data = np.array([[(i%2)/2, (i%3)/3, (i%5)/5, (i%7)/7, i/10001] for i in range(10001)])\n",
    "testing_answers = np.array([i % 30 for i in range(10001)])\n",
    "B.train(testing_data, testing_answers)\n",
    "test = np.array([random.randint(1,10000) for i in range(1000)])\n",
    "test_predict = np.array([[(i%2)/2, (i%3)/3, (i%5)/5, (i%7)/7, i/10001] for i in test])\n",
    "res, sum_reson = B.predict(test_predict)\n",
    "good, bad, undef = 0,0,0\n",
    "for i in range(1000):\n",
    "    if res[i] == -1:\n",
    "        undef += 1\n",
    "    else:\n",
    "        if test[i] % 30 == res[i]:\n",
    "            good += 1\n",
    "        else:\n",
    "            bad += 1\n",
    "print(\"good:\", good, \"bad:\", bad, \"undef:\", undef, \"avg_reson:\", sum_reson/1000)"
   ]
  },
  {
   "cell_type": "markdown",
   "id": "36f2bfbe",
   "metadata": {},
   "source": [
    "Как мы видим, все еще 100 процентов тестов решились правильно, хотя средний параметр бдительности стал порядка 0.75. То есть в каждом результате мы \"уверены\" в среднем на 77 процентов, но этого оказывается достаточно."
   ]
  },
  {
   "cell_type": "markdown",
   "id": "490c3e94",
   "metadata": {},
   "source": [
    "3. На вход поступает массив из 5 элементов от 1 до 10. Мы хотим, чтобы нейросеть обучилась находить максимальный элемент массива. \\\n",
    "Здесь уже пространство различных входных данных огромное - 10^5 вариантов, все их мы явно не запомним. Более того, немного отличающиеся данные могут давать отличающиеся ответы. Поэтому мы рассчитываем просто на хороший процент правильный ответов."
   ]
  },
  {
   "cell_type": "code",
   "execution_count": 33,
   "id": "d5225b6f",
   "metadata": {},
   "outputs": [
    {
     "name": "stdout",
     "output_type": "stream",
     "text": [
      "0\n",
      "1000\n",
      "2000\n",
      "3000\n",
      "4000\n",
      "5000\n",
      "good: 913 bad: 87 undef: 0\n"
     ]
    }
   ],
   "source": [
    "C = Fuzzy_Artmap()\n",
    "testing_data = np.array([[random.randint(1, 10)/10 for i in range(5)] for i in range(5001)])\n",
    "testing_answers = np.array([np.argmax(testing_data[i]) for i in range(5001  )])\n",
    "C.train(testing_data, testing_answers)\n",
    "test_predict = np.array([[random.randint(1, 10)/10 for i in range(5)] for i in range(1000)])\n",
    "res, sum_reson = C.predict(test_predict)\n",
    "good, bad, undef = 0,0,0\n",
    "for i in range(1000):\n",
    "    if res[i] == -1:\n",
    "        undef += 1\n",
    "    else:\n",
    "        for j in range(5):\n",
    "            if test_predict[i][j] > test_predict[i][res[i]]:\n",
    "                bad += 1\n",
    "                break\n",
    "        else:\n",
    "            good += 1\n",
    "print(\"good:\", good, \"bad:\", bad, \"undef:\", undef)"
   ]
  },
  {
   "cell_type": "markdown",
   "id": "ba99c9ae",
   "metadata": {},
   "source": [
    "Получили в итоге примерно 90% процентов правильных ответов. Очень неплохо, все работает. Если увеличивать размер обучаемой выборки, то у меня доходило до 95 процентов, но там уже обучение происходит слишком долго."
   ]
  },
  {
   "cell_type": "markdown",
   "id": "74696e2b",
   "metadata": {},
   "source": [
    "Можно переходить к непосредственному применению нейронной сети для моей задачи.\\\n",
    "На сайте http://sigma.whu.edu.cn/newspage.php?q=2019_03_26_ENG я нашел датасет, который включает себя изображения ровно для проверки change detectiton алгоритмов.\\\n",
    "Сначала распарсим train data.\\\n",
    "Изначально она хранится в папках first и second в виде .tif изображений и класс картинки указан непосредственно в ее названии."
   ]
  },
  {
   "cell_type": "code",
   "execution_count": 50,
   "id": "4b7d1979",
   "metadata": {},
   "outputs": [
    {
     "name": "stdout",
     "output_type": "stream",
     "text": [
      "(150, 150, 4)\n"
     ]
    },
    {
     "data": {
      "image/png": "[encoded data removed]",
      "text/plain": [
       "<Figure size 432x288 with 1 Axes>"
      ]
     },
     "metadata": {
      "needs_background": "light"
     },
     "output_type": "display_data"
    }
   ],
   "source": [
    "import numpy as np\n",
    "import matplotlib.pyplot as plt\n",
    "import os\n",
    "from matplotlib.image import imread\n",
    "%matplotlib inline\n",
    "import os\n",
    "A = imread('first/l1_n1_x2987_y3748.tif')\n",
    "print(A.shape)\n",
    "_ = plt.imshow(A, cmap='gray')"
   ]
  },
  {
   "cell_type": "markdown",
   "id": "226206d8",
   "metadata": {},
   "source": [
    "Изображения из датасета хранятся в виде картинок $150\\times150$, каждая прнадлежит какому-то классу.\\\n",
    "Каждое изображение я разделил на 36 изображений $25\\times25$, усреднил значение в каждом квадрате $5\\times5$ и добавил получившиеся данные в соответствующий класс."
   ]
  },
  {
   "cell_type": "code",
   "execution_count": 10,
   "id": "2a3d05da",
   "metadata": {},
   "outputs": [],
   "source": [
    "data = [[] for i in range(8)]\n",
    "for root, dirs, files in os.walk(\"./first\"):\n",
    "    for filename in files:\n",
    "        cl = int(str(filename)[1]) - 1\n",
    "        A = imread(\"first/\" + str(filename))\n",
    "        for i in range(6):\n",
    "            for j in range(6):\n",
    "                curA = A[25*i:25*(i+1), 25*j:25*(j+1)][:,:,:-1]\n",
    "                resA = np.zeros((5,5,3))\n",
    "                for x in range(5):\n",
    "                    for y in range(5):\n",
    "                        for ix in range(5*x, 5*(x+1)):\n",
    "                            for iy in range(5*y, 5*(y+1)):\n",
    "                                resA[x][y] +=curA[ix][iy]\n",
    "                resA /= (25*256)\n",
    "                data[cl].append(resA)\n",
    "for root, dirs, files in os.walk(\"./second\"):\n",
    "    for filename in files:\n",
    "        cl = int(str(filename)[1]) - 1\n",
    "        A = imread(\"second/\" + str(filename))\n",
    "        for i in range(6):\n",
    "            for j in range(6):\n",
    "                curA = A[25*i:25*(i+1), 25*j:25*(j+1)][:,:,:-1]\n",
    "                resA = np.zeros((5,5,3))\n",
    "                for x in range(5):\n",
    "                    for y in range(5):\n",
    "                        for ix in range(5*x, 5*(x+1)):\n",
    "                            for iy in range(5*y, 5*(y+1)):\n",
    "                                resA[x][y] +=curA[ix][iy]\n",
    "                resA /= (25 * 256)\n",
    "                data[cl].append(resA)"
   ]
  },
  {
   "cell_type": "markdown",
   "id": "49505224",
   "metadata": {},
   "source": [
    "Для каждого класса я получил вот столько картинок $5\\times5$ для обучения."
   ]
  },
  {
   "cell_type": "code",
   "execution_count": 11,
   "id": "47eb2322",
   "metadata": {},
   "outputs": [
    {
     "name": "stdout",
     "output_type": "stream",
     "text": [
      "[720, 2052, 936, 1836, 2016, 1908, 1800, 2412]\n",
      "13680\n"
     ]
    }
   ],
   "source": [
    "print([len(data[i]) for i in range(8)])\n",
    "print(sum([len(data[i]) for i in range(8)]))"
   ]
  },
  {
   "cell_type": "markdown",
   "id": "5a40a840",
   "metadata": {},
   "source": [
    "Теперь переделаем изображения в простой numpy array и добавим информацию о принадлежащем классе."
   ]
  },
  {
   "cell_type": "code",
   "execution_count": 12,
   "id": "772860f2",
   "metadata": {},
   "outputs": [
    {
     "name": "stdout",
     "output_type": "stream",
     "text": [
      "[[0.698125   0.68015625 0.71234375 ... 0.59015625 0.625      0.        ]\n",
      " [0.6696875  0.64453125 0.67046875 ... 0.615625   0.6553125  0.        ]\n",
      " [0.61953125 0.58046875 0.61296875 ... 0.5603125  0.58296875 0.        ]\n",
      " ...\n",
      " [0.4934375  0.41984375 0.4828125  ... 0.22078125 0.26046875 7.        ]\n",
      " [0.34       0.25703125 0.29171875 ... 0.37078125 0.40625    7.        ]\n",
      " [0.44453125 0.36390625 0.39671875 ... 0.41828125 0.4609375  7.        ]]\n"
     ]
    }
   ],
   "source": [
    "resulted_data = np.zeros((13680, 76))\n",
    "s=0\n",
    "for cl in range(8):\n",
    "    for j in data[cl]:\n",
    "        resulted_data[s][:-1] = np.reshape(j, (75, ))\n",
    "        resulted_data[s][-1] = cl\n",
    "        s+=1\n",
    "print(resulted_data)"
   ]
  },
  {
   "cell_type": "markdown",
   "id": "c1544af3",
   "metadata": {},
   "source": [
    "Ну и еще перемешаем, чтобы обучаться не подряд по классам, и разделить ответы от входных данных"
   ]
  },
  {
   "cell_type": "code",
   "execution_count": 19,
   "id": "02adf5ec",
   "metadata": {},
   "outputs": [
    {
     "name": "stdout",
     "output_type": "stream",
     "text": [
      "[[0.250625   0.23328125 0.273125   ... 0.2890625  0.26234375 0.3034375 ]\n",
      " [0.125625   0.153125   0.22421875 ... 0.30609375 0.27859375 0.31953125]\n",
      " [0.42109375 0.3453125  0.40015625 ... 0.49765625 0.44203125 0.5065625 ]\n",
      " ...\n",
      " [0.2928125  0.19046875 0.2815625  ... 0.5003125  0.44140625 0.5515625 ]\n",
      " [0.2009375  0.18203125 0.22984375 ... 0.38578125 0.359375   0.44359375]\n",
      " [0.175      0.08828125 0.53921875 ... 0.165      0.10546875 0.5375    ]]\n",
      "[6. 7. 4. ... 7. 5. 1.]\n"
     ]
    }
   ],
   "source": [
    "np.random.shuffle(resulted_data)\n",
    "final_data = resulted_data[:,:-1]\n",
    "final_data_answers = resulted_data[:, -1]\n",
    "print(final_data)\n",
    "print(final_data_answers)"
   ]
  },
  {
   "cell_type": "markdown",
   "id": "edc0a8ed",
   "metadata": {},
   "source": [
    "Выгружаем полученные данные на комп."
   ]
  },
  {
   "cell_type": "code",
   "execution_count": 20,
   "id": "2f983dfa",
   "metadata": {},
   "outputs": [],
   "source": [
    "with open('test_data.npy', 'wb') as f:\n",
    "    np.save(f, final_data)\n",
    "with open('test_data_answers.npy', 'wb') as f:\n",
    "    np.save(f, final_data_answers)"
   ]
  },
  {
   "cell_type": "markdown",
   "id": "aa72fa28",
   "metadata": {},
   "source": [
    "Распарсив train data, попробуем обучиться на ней."
   ]
  },
  {
   "cell_type": "code",
   "execution_count": 40,
   "id": "b9d5142a",
   "metadata": {},
   "outputs": [
    {
     "name": "stdout",
     "output_type": "stream",
     "text": [
      "(13680, 75) (13680,)\n",
      "(13680, 75)\n",
      "0\n",
      "1000\n",
      "2000\n",
      "3000\n",
      "4000\n",
      "5000\n",
      "6000\n",
      "7000\n",
      "8000\n",
      "9000\n"
     ]
    }
   ],
   "source": [
    "A = Fuzzy_Artmap()\n",
    "testing_data = np.load(\"./test_data.npy\")\n",
    "testing_answers = np.load(\"./test_data_answers.npy\")\n",
    "print(testing_data.shape, testing_answers.shape)\n",
    "print(testing_data.shape)\n",
    "A.train(testing_data[:10000], testing_answers[:10000])"
   ]
  },
  {
   "cell_type": "markdown",
   "id": "c0ff3162",
   "metadata": {},
   "source": [
    "Проверим теперь, что все работает примерно правильно."
   ]
  },
  {
   "cell_type": "code",
   "execution_count": 44,
   "id": "b9fdf457",
   "metadata": {},
   "outputs": [
    {
     "name": "stdout",
     "output_type": "stream",
     "text": [
      "good: 493 bad: 507 undef: 0\n",
      "[[ 11.   0.   1.  15.   7.   0.   0.  18.]\n",
      " [  0. 148.   2.   1.   4.   1.   0.   3.]\n",
      " [  1.   0.  22.  16.  10.   0.   6.  12.]\n",
      " [ 11.   0.   6.  69.  31.   1.   4.  18.]\n",
      " [  5.   0.   9.  34.  54.   3.   6.  29.]\n",
      " [  3.   0.   6.   5.  14.  61.  21.  24.]\n",
      " [  1.   0.  14.   4.  14.  17.  58.  28.]\n",
      " [  8.   1.   6.  20.  37.  14.  16.  70.]]\n"
     ]
    }
   ],
   "source": [
    "test_predict = testing_data[10000:11000]\n",
    "res, sum_reson = A.predict(test_predict)\n",
    "good, bad, undef = 0,0,0\n",
    "match_array = np.zeros((8,8))\n",
    "for i in range(1000):\n",
    "    if res[i] == -1:\n",
    "        undef += 1\n",
    "    else:\n",
    "        match_array[int(testing_answers[10000+i])][int(res[i])]+=1\n",
    "        if testing_answers[10000+i] == res[i]:\n",
    "            good += 1\n",
    "        else:\n",
    "            bad += 1\n",
    "print(\"good:\", good, \"bad:\", bad, \"undef:\", undef)\n",
    "print(match_array)"
   ]
  },
  {
   "cell_type": "markdown",
   "id": "5221f5bf",
   "metadata": {},
   "source": [
    "Получилось довольно мало, но хоть какая-то точность есть. Мы однозначно видим, что нейронная сеть классифицирует картинки не каким-то случайным образом.\\\n",
    "Во многом, думаю, это происходит из-за того, что поделив картинку на 36 частей, у меня многие из частей на самом деле не относятся к тому классу, к которому относилась вся картинка. Но эти издержки нам необходимы, чтобы размер датасета был не очень маленьким, а входные данные не такие огромные и информативные."
   ]
  },
  {
   "cell_type": "code",
   "execution_count": null,
   "id": "13c89497",
   "metadata": {},
   "outputs": [],
   "source": []
  }
 ],
 "metadata": {
  "kernelspec": {
   "display_name": "Python 3 (ipykernel)",
   "language": "python",
   "name": "python3"
  },
  "language_info": {
   "codemirror_mode": {
    "name": "ipython",
    "version": 3
   },
   "file_extension": ".py",
   "mimetype": "text/x-python",
   "name": "python",
   "nbconvert_exporter": "python",
   "pygments_lexer": "ipython3",
   "version": "3.8.10"
  }
 },
 "nbformat": 4,
 "nbformat_minor": 5
}
